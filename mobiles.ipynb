{
 "cells": [
  {
   "cell_type": "code",
   "execution_count": 1,
   "id": "25c188c9",
   "metadata": {},
   "outputs": [],
   "source": [
    "import pandas as pd\n",
    "from sqlalchemy import create_engine"
   ]
  },
  {
   "cell_type": "code",
   "execution_count": 2,
   "id": "af473859",
   "metadata": {},
   "outputs": [],
   "source": [
    "csv_file = r\"C:\\\\Users\\\\Ritam\\\\OneDrive\\\\Desktop\\\\Projects\\\\Automation Project\\\\mobiles\\\\mobile_sales.csv\"\n",
    "mobiles_df = pd.read_csv(csv_file)"
   ]
  },
  {
   "cell_type": "code",
   "execution_count": 3,
   "id": "9386c141",
   "metadata": {},
   "outputs": [
    {
     "name": "stdout",
     "output_type": "stream",
     "text": [
      "Original columns:\n",
      "Index(['TransactionID', 'Date', 'MobileModel', 'Brand', 'Price', 'UnitsSold',\n",
      "       'TotalRevenue', 'CustomerAge', 'CustomerGender', 'Location',\n",
      "       'PaymentMethod'],\n",
      "      dtype='object')\n",
      "                          TransactionID        Date MobileModel  \\\n",
      "0  79397f68-61ed-4ea8-bcb2-f918d4e6c05b  2024-01-06   direction   \n",
      "1  4f87d114-f522-4ead-93e3-f336402df6aa  2024-04-05       right   \n",
      "2  6750b7d6-dcc5-48c5-a76a-b6fc9d540fe1  2024-02-13      summer   \n",
      "3  7da7de95-f772-4cc2-bce0-b0873f98233e  2024-04-17        keep   \n",
      "4  469044af-0d60-4d87-af66-c6603e844057  2024-06-02      option   \n",
      "\n",
      "              Brand    Price  UnitsSold  TotalRevenue  CustomerAge  \\\n",
      "0         Green Inc  1196.95         85      28002.80           32   \n",
      "1   Thomas-Thompson  1010.34         64       2378.82           55   \n",
      "2  Sanchez-Williams   400.80         95      31322.56           57   \n",
      "3    Greer and Sons   338.60         79      31159.75           46   \n",
      "4    Brown and Sons   839.79         41      11523.36           38   \n",
      "\n",
      "  CustomerGender           Location PaymentMethod  \n",
      "0         Female          Port Erik        Online  \n",
      "1         Female         East Linda   Credit Card  \n",
      "2           Male  East Angelicastad        Online  \n",
      "3          Other         East Kevin          Cash  \n",
      "4           Male   New Lindaborough        Online  \n"
     ]
    }
   ],
   "source": [
    "print(\"Original columns:\")\n",
    "print(mobiles_df.columns)\n",
    "print(mobiles_df.head())"
   ]
  },
  {
   "cell_type": "code",
   "execution_count": 4,
   "id": "745032ce",
   "metadata": {},
   "outputs": [],
   "source": [
    "mobiles_df.columns = [col.strip().lower().replace(\" \", \"_\") for col in mobiles_df.columns]"
   ]
  },
  {
   "cell_type": "code",
   "execution_count": 5,
   "id": "6d8db265",
   "metadata": {},
   "outputs": [
    {
     "name": "stdout",
     "output_type": "stream",
     "text": [
      "\n",
      "Cleaned columns:\n",
      "Index(['transactionid', 'date', 'mobilemodel', 'brand', 'price', 'unitssold',\n",
      "       'totalrevenue', 'customerage', 'customergender', 'location',\n",
      "       'paymentmethod'],\n",
      "      dtype='object')\n"
     ]
    }
   ],
   "source": [
    "print(\"\\nCleaned columns:\")\n",
    "print(mobiles_df.columns)"
   ]
  },
  {
   "cell_type": "code",
   "execution_count": 12,
   "id": "c80d0f3a",
   "metadata": {},
   "outputs": [],
   "source": [
    "mobiles_df['date'] = pd.to_datetime(mobiles_df['date'])\n",
    "mobiles_df['price'] = mobiles_df['price'].astype(float)\n",
    "mobiles_df['unitssold'] = mobiles_df['unitssold'].astype(int)\n",
    "mobiles_df['totalrevenue'] = mobiles_df['totalrevenue'].astype(float)\n",
    "mobiles_df['customerage'] = mobiles_df['customerage'].astype(int)"
   ]
  },
  {
   "cell_type": "code",
   "execution_count": 15,
   "id": "a63f4936",
   "metadata": {},
   "outputs": [
    {
     "name": "stdout",
     "output_type": "stream",
     "text": [
      "\n",
      "✅ Cleaned Excel saved at: D:\\Automation Project Sub Folder\\mobiles_cleaned.xlsx\n"
     ]
    }
   ],
   "source": [
    "excel_file = r\"D:\\Automation Project Sub Folder\\mobiles_cleaned.xlsx\"\n",
    "mobiles_df.to_excel(excel_file, index=False)\n",
    "print(f\"\\n✅ Cleaned Excel saved at: {excel_file}\")"
   ]
  }
 ],
 "metadata": {
  "kernelspec": {
   "display_name": "Python 3",
   "language": "python",
   "name": "python3"
  },
  "language_info": {
   "codemirror_mode": {
    "name": "ipython",
    "version": 3
   },
   "file_extension": ".py",
   "mimetype": "text/x-python",
   "name": "python",
   "nbconvert_exporter": "python",
   "pygments_lexer": "ipython3",
   "version": "3.12.6"
  }
 },
 "nbformat": 4,
 "nbformat_minor": 5
}
